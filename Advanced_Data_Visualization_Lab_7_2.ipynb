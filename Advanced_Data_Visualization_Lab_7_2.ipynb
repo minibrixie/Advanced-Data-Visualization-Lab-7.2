{
  "nbformat": 4,
  "nbformat_minor": 0,
  "metadata": {
    "colab": {
      "provenance": [],
      "authorship_tag": "ABX9TyNxmZYZ+TSOEIhEJh0JUNWZ",
      "include_colab_link": true
    },
    "kernelspec": {
      "name": "python3",
      "display_name": "Python 3"
    },
    "language_info": {
      "name": "python"
    }
  },
  "cells": [
    {
      "cell_type": "markdown",
      "metadata": {
        "id": "view-in-github",
        "colab_type": "text"
      },
      "source": [
        "<a href=\"https://colab.research.google.com/github/minibrixie/Advanced-Data-Visualization-Lab-7.2/blob/main/Advanced_Data_Visualization_Lab_7_2.ipynb\" target=\"_parent\"><img src=\"https://colab.research.google.com/assets/colab-badge.svg\" alt=\"Open In Colab\"/></a>"
      ]
    },
    {
      "cell_type": "code",
      "execution_count": 1,
      "metadata": {
        "colab": {
          "base_uri": "https://localhost:8080/"
        },
        "id": "6c25mE_LqmEZ",
        "outputId": "ee927082-ce4e-4e85-add8-0f13abb94078"
      },
      "outputs": [
        {
          "output_type": "stream",
          "name": "stdout",
          "text": [
            "What is the temperature outside?:26\n",
            "the temperature is good today\n",
            "can go outside!\n"
          ]
        }
      ],
      "source": [
        "temp = int(input(\"What is the temperature outside?:\"))\n",
        "\n",
        "if temp >= 0 and temp<=30:\n",
        "  print(\"the temperature is good today\")\n",
        "  print(\"can go outside!\")\n",
        "elif temp < 0 or temp > 30:\n",
        "  print(\"the temperatureis bad today!\")\n",
        "  print(\"you must stay inside!\")"
      ]
    }
  ]
}